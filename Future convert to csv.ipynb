{
 "cells": [
  {
   "cell_type": "code",
   "execution_count": 1,
   "metadata": {},
   "outputs": [],
   "source": [
    "import numpy as np\n",
    "import pandas as pd\n",
    "import matplotlib.pyplot as plt\n",
    "import csv\n",
    "import os\n",
    "import netCDF4\n",
    "from kolzur_filter import kz_filter, kzft, kzp, _kz_coeffs"
   ]
  },
  {
   "cell_type": "code",
   "execution_count": 2,
   "metadata": {},
   "outputs": [],
   "source": [
    "variablelist = ['psl', 'rhs', 'tas', 'sfcWind']"
   ]
  },
  {
   "cell_type": "code",
   "execution_count": 3,
   "metadata": {},
   "outputs": [],
   "source": [
    "time1 = '20360101-20451231'\n",
    "time2 = '20460101-20551231'\n",
    "time3 = '20860101-20951231'\n",
    "time4 = '20960101-21001231'\n",
    "time5 = '20400101-20491231'\n",
    "time6 = '20500101-20591231'\n",
    "time7 = '20900101-20991231'\n",
    "time8 = '21000101-21001231'\n",
    "time9 = '20351201-20451130'\n",
    "time10 = '20451201-20551130'\n",
    "time11 = '20851201-20951130'\n",
    "time12 = '20951201-20991130'\n",
    "time13 = '20951201-20991030'\n",
    "time14 = '20991101-20991230'\n",
    "time15 = '20401201-20451130'\n",
    "time16 = '20451201-20501130'\n",
    "time17 = '20411201-20511130'\n",
    "time18 = '20911201-20991230'\n",
    "time19 = '20991201-20991230'\n",
    "time20 = '20060101-20551231'\n",
    "time21 = '20560101-21001231'\n",
    "time22 = '20410101-20451231'\n",
    "time23 = '20460101-20501231'\n",
    "time24 = '20910101-20951231'\n",
    "time25 = '20960101-21001231'\n",
    "time26 = '20060101-20151231'\n",
    "time27 = '20160101-20251231'\n",
    "time28 = '20110101-20151231'\n",
    "time29 = '20160101-20201231'\n",
    "\n",
    "#timelist = [time1, time2, time3, time4] #4\n",
    "#timelist2 = [time5, time6, time7, time8] #4\n",
    "#timelist3 = [time9, time10, time11, time12] #4\n",
    "#timelist3a = [time9, time10, time11, time13, time14] #2+3\n",
    "#timelist3b = [time17, time18] #2\n",
    "#timelist3c = [time15, time16, time11, time12, time19] #2+3\n",
    "#timelist4 = [time20, time21] #2\n",
    "#timelist5 = [time22, time23, time24, time25]\n",
    "timelist = [time26, time27]\n",
    "timelist4 = [time20]\n",
    "timelist5 = [time28, time29]"
   ]
  },
  {
   "cell_type": "code",
   "execution_count": 4,
   "metadata": {},
   "outputs": [],
   "source": [
    "# Models\n",
    "# MRI-CGCM3, MIROC5, HadGEM2-ES, IPSL-CM5A-MR, NorESM1-M, CSIRO-MK3.6, GFDL-ESM2M, GFDL-ESM2G, then take an average.\n",
    "model1 = 'MRI-CGCM3'\n",
    "model2 = 'MIROC5'\n",
    "model3 = 'HadGEM2-ES'\n",
    "model4 = 'IPSL-CM5A-MR'\n",
    "model5 = 'NorESM1-M'\n",
    "model6 = 'CSIRO-MK3.6'\n",
    "model7 = 'GFDL-ESM2M'\n",
    "model8 = 'GFDL-ESM2G'\n",
    "modellist = [model1, model2, model3, model4, model5, model6, model7, model8]"
   ]
  },
  {
   "cell_type": "code",
   "execution_count": 5,
   "metadata": {},
   "outputs": [],
   "source": [
    "# Experiments\n",
    "# rcp26, rcp45, rcp60, rcp85\n",
    "exp1 = 'rcp26'\n",
    "exp2 = 'rcp45'\n",
    "exp3 = 'rcp60'\n",
    "exp4 = 'rcp85'\n",
    "explist = [exp1, exp2, exp3, exp4]"
   ]
  },
  {
   "cell_type": "code",
   "execution_count": 6,
   "metadata": {},
   "outputs": [],
   "source": [
    "# latitude = 100 # Latitude range from -90 to 90: len(lat) = 160\n",
    "# longitude = 102 # Longitude range from 0 to 360: len(lon) = 320\n",
    "# Eastern: 22.3036, 114.1719\n",
    "# Tap Mun: 22.3036, 114.1719\n",
    "# Tsuen Wan: 22.3594, 114.2153 ###\n",
    "# Tung Chung: 22.2911, 113.9069\n",
    "# Yuen Long: 22.4706, 113.9811\n",
    "# Kwai Chung: 22.3594, 114.2153 ###\n",
    "# Kwun Tong: 22.3147, 114.2233 ###\n",
    "# Macau: 22.1600, 113.5650\n",
    "# Sha Tin: 22.3036, 114.1719\n",
    "# Sham Shui Po: 22.3315, 114.1567\n",
    "\n",
    "location = [[99,101],[79,81],[90,61],[89,46],[59,46],[100,102],[56,45],[56,45]] # Order follows model"
   ]
  },
  {
   "cell_type": "code",
   "execution_count": 7,
   "metadata": {},
   "outputs": [],
   "source": [
    "# Set the directory\n",
    "directory = \"Future Data Average/\"\n",
    "if not os.path.exists(directory):\n",
    "    os.makedirs(directory)"
   ]
  },
  {
   "cell_type": "code",
   "execution_count": 8,
   "metadata": {},
   "outputs": [],
   "source": [
    "def future(variable, time, model, exp):\n",
    "    # Model5 does not have wind data\n",
    "    if model == model5 and variable == 'sfcWind':\n",
    "        return\n",
    "    \n",
    "    path = exp + '/' + model + '/' + variable + '_day_' + model + '_' + exp + '_r1i1p1_' + time + '.nc'\n",
    "    print(path)\n",
    "    # Set the directory\n",
    "    directory_save = \"Future Data Average/\" + exp + '/' + model + '/'\n",
    "    if not os.path.exists(directory_save):\n",
    "        os.makedirs(directory_save)\n",
    "    # Read nc files\n",
    "    nc = netCDF4.Dataset(path, mode='r')\n",
    "    nc.variables.keys()\n",
    "    \n",
    "    lat = nc.variables['lat'][:]\n",
    "    lon = nc.variables['lon'][:]\n",
    "    time_var = nc.variables['time']\n",
    "    dtime = netCDF4.num2date(time_var[:], time_var.units)\n",
    "    if variable == 'psl':\n",
    "        var = nc.variables['psl'][:]\n",
    "        units = 'Pa'\n",
    "    elif variable == 'rhs':\n",
    "        var = nc.variables['rhs'][:]\n",
    "        units = '%'\n",
    "    elif variable == 'tas':\n",
    "        var = nc.variables['tas'][:] - 273\n",
    "        units = 'Celcius'\n",
    "    else:\n",
    "        var = nc.variables['sfcWind'][:]\n",
    "        units = 'm/s'\n",
    "    # Eastern: 22.3036, 114.1719\n",
    "    #latitude = 100 # Latitude range from -90 to 90: len(lat) = 160\n",
    "    #longitude = 102 # Longitude range from 0 to 360: len(lon) = 320\n",
    "    print('Latitude =', lat[latitude], '; Longitude =', lon[longitude])\n",
    "    y = []\n",
    "    for i in range(len(var)):\n",
    "        y.append(var[i][latitude][longitude])\n",
    "    x = dtime\n",
    "    \n",
    "    # Write csv files into 'Future Data Average/'\n",
    "    matrix = pd.Series(y, index=x) \n",
    "    matrix.to_csv(directory_save + exp + '_' + model + '_' + variable + '_' + time + '.csv', index=True, header=True)\n",
    "    \n",
    "    # KZ Filter and Graph\n",
    "    #m = 29\n",
    "    #k = 3\n",
    "    #y = np.array(y)\n",
    "    #y = kz_filter(y, m ,k)\n",
    "    #w = int(k * (m - 1) / 2)\n",
    "    #x = x[w:-w]\n",
    "    #plt.plot(x,y)\n",
    "    #plt.xlabel('Time')\n",
    "    #plt.ylabel(variable + ' (' + units + ')')\n",
    "    #plt.title(exp + '_' + model + '_' + variable + '_' + time)\n",
    "    #plt.show()"
   ]
  },
  {
   "cell_type": "code",
   "execution_count": 9,
   "metadata": {},
   "outputs": [
    {
     "name": "stdout",
     "output_type": "stream",
     "text": [
      "rcp26/IPSL-CM5A-MR/psl_day_IPSL-CM5A-MR_rcp26_r1i1p1_20060101-20551231.nc\n"
     ]
    },
    {
     "ename": "FileNotFoundError",
     "evalue": "[Errno 2] No such file or directory: b'rcp26/IPSL-CM5A-MR/psl_day_IPSL-CM5A-MR_rcp26_r1i1p1_20060101-20551231.nc'",
     "output_type": "error",
     "traceback": [
      "\u001b[0;31m---------------------------------------------------------------------------\u001b[0m",
      "\u001b[0;31mFileNotFoundError\u001b[0m                         Traceback (most recent call last)",
      "\u001b[0;32m<ipython-input-9-10575a4f6ab2>\u001b[0m in \u001b[0;36m<module>\u001b[0;34m()\u001b[0m\n\u001b[1;32m      6\u001b[0m         \u001b[0mlatitude\u001b[0m \u001b[0;34m=\u001b[0m \u001b[0mlocation\u001b[0m\u001b[0;34m[\u001b[0m\u001b[0;36m3\u001b[0m\u001b[0;34m]\u001b[0m\u001b[0;34m[\u001b[0m\u001b[0;36m0\u001b[0m\u001b[0;34m]\u001b[0m  \u001b[0;31m# [i][0]\u001b[0m\u001b[0;34m\u001b[0m\u001b[0m\n\u001b[1;32m      7\u001b[0m         \u001b[0mlongitude\u001b[0m \u001b[0;34m=\u001b[0m \u001b[0mlocation\u001b[0m\u001b[0;34m[\u001b[0m\u001b[0;36m3\u001b[0m\u001b[0;34m]\u001b[0m\u001b[0;34m[\u001b[0m\u001b[0;36m1\u001b[0m\u001b[0;34m]\u001b[0m \u001b[0;31m# [i][1]\u001b[0m\u001b[0;34m\u001b[0m\u001b[0m\n\u001b[0;32m----> 8\u001b[0;31m         \u001b[0mfuture\u001b[0m\u001b[0;34m(\u001b[0m\u001b[0mvariable\u001b[0m\u001b[0;34m,\u001b[0m \u001b[0mtime\u001b[0m\u001b[0;34m,\u001b[0m \u001b[0mmodel4\u001b[0m\u001b[0;34m,\u001b[0m \u001b[0mexp1\u001b[0m\u001b[0;34m)\u001b[0m\u001b[0;34m\u001b[0m\u001b[0m\n\u001b[0m",
      "\u001b[0;32m<ipython-input-8-b1fda2229b83>\u001b[0m in \u001b[0;36mfuture\u001b[0;34m(variable, time, model, exp)\u001b[0m\n\u001b[1;32m     11\u001b[0m         \u001b[0mos\u001b[0m\u001b[0;34m.\u001b[0m\u001b[0mmakedirs\u001b[0m\u001b[0;34m(\u001b[0m\u001b[0mdirectory_save\u001b[0m\u001b[0;34m)\u001b[0m\u001b[0;34m\u001b[0m\u001b[0m\n\u001b[1;32m     12\u001b[0m     \u001b[0;31m# Read nc files\u001b[0m\u001b[0;34m\u001b[0m\u001b[0;34m\u001b[0m\u001b[0m\n\u001b[0;32m---> 13\u001b[0;31m     \u001b[0mnc\u001b[0m \u001b[0;34m=\u001b[0m \u001b[0mnetCDF4\u001b[0m\u001b[0;34m.\u001b[0m\u001b[0mDataset\u001b[0m\u001b[0;34m(\u001b[0m\u001b[0mpath\u001b[0m\u001b[0;34m,\u001b[0m \u001b[0mmode\u001b[0m\u001b[0;34m=\u001b[0m\u001b[0;34m'r'\u001b[0m\u001b[0;34m)\u001b[0m\u001b[0;34m\u001b[0m\u001b[0m\n\u001b[0m\u001b[1;32m     14\u001b[0m     \u001b[0mnc\u001b[0m\u001b[0;34m.\u001b[0m\u001b[0mvariables\u001b[0m\u001b[0;34m.\u001b[0m\u001b[0mkeys\u001b[0m\u001b[0;34m(\u001b[0m\u001b[0;34m)\u001b[0m\u001b[0;34m\u001b[0m\u001b[0m\n\u001b[1;32m     15\u001b[0m \u001b[0;34m\u001b[0m\u001b[0m\n",
      "\u001b[0;32mnetCDF4/_netCDF4.pyx\u001b[0m in \u001b[0;36mnetCDF4._netCDF4.Dataset.__init__\u001b[0;34m()\u001b[0m\n",
      "\u001b[0;32mnetCDF4/_netCDF4.pyx\u001b[0m in \u001b[0;36mnetCDF4._netCDF4._ensure_nc_success\u001b[0;34m()\u001b[0m\n",
      "\u001b[0;31mFileNotFoundError\u001b[0m: [Errno 2] No such file or directory: b'rcp26/IPSL-CM5A-MR/psl_day_IPSL-CM5A-MR_rcp26_r1i1p1_20060101-20551231.nc'"
     ]
    }
   ],
   "source": [
    "# Testing\n",
    "for j in range(len(variablelist)):\n",
    "    for k in range(len(timelist4)):\n",
    "        variable = variablelist[j]\n",
    "        time = timelist4[k]\n",
    "        latitude = location[3][0]  # [i][0]\n",
    "        longitude = location[3][1] # [i][1]\n",
    "        future(variable, time, model4, exp1)"
   ]
  },
  {
   "cell_type": "code",
   "execution_count": null,
   "metadata": {},
   "outputs": [],
   "source": []
  }
 ],
 "metadata": {
  "kernelspec": {
   "display_name": "Python 3",
   "language": "python",
   "name": "python3"
  },
  "language_info": {
   "codemirror_mode": {
    "name": "ipython",
    "version": 3
   },
   "file_extension": ".py",
   "mimetype": "text/x-python",
   "name": "python",
   "nbconvert_exporter": "python",
   "pygments_lexer": "ipython3",
   "version": "3.7.2"
  }
 },
 "nbformat": 4,
 "nbformat_minor": 2
}
